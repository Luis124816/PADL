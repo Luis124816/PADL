{
  "cells": [
    {
      "cell_type": "markdown",
      "metadata": {
        "id": "yh1xjDsncbH6"
      },
      "source": [
        "**Question 1a**"
      ]
    },
    {
      "cell_type": "code",
      "execution_count": null,
      "metadata": {
        "colab": {
          "base_uri": "https://localhost:8080/"
        },
        "id": "e3AxYZoHcaYk",
        "outputId": "acf0b2f6-de19-4f94-f870-67f7c1250c49"
      },
      "outputs": [
        {
          "output_type": "stream",
          "name": "stdout",
          "text": [
            "R2 score:  1.0\n"
          ]
        }
      ],
      "source": [
        "import numpy as np\n",
        "from sklearn.model_selection import train_test_split\n",
        "from sklearn.preprocessing import PolynomialFeatures\n",
        "from sklearn.linear_model import LinearRegression\n",
        "from sklearn.metrics import r2_score\n",
        "\n",
        "# Load the seen dataset\n",
        "data = np.loadtxt('PADL-Q11-train.csv', delimiter=',', skiprows=1, usecols=range(0, 6))\n",
        "x = data[:, 0:5]\n",
        "y = data[:, 5]\n",
        "\n",
        "# Split the seen dataset into 80% train, 20% test\n",
        "train_x, test_x, train_y, test_y = train_test_split(x, y, test_size=0.2, random_state=1)\n",
        "\n",
        "# Apply Polynomial transformation to the data\n",
        "poly = PolynomialFeatures(degree=2, include_bias=True)\n",
        "train_x_poly = poly.fit_transform(train_x)\n",
        "test_x_poly = poly.transform(test_x)\n",
        "\n",
        "# Train the model\n",
        "poly_model = LinearRegression()\n",
        "poly_model.fit(train_x_poly, train_y)\n",
        "\n",
        "# Test the model on the seen test set\n",
        "pred_y = poly_model.predict(test_x_poly)\n",
        "r2 = r2_score(test_y, pred_y)\n",
        "print(\"R2 score: \", r2)"
      ]
    },
    {
      "cell_type": "markdown",
      "metadata": {
        "id": "Ridu8OwipkGD"
      },
      "source": [
        "**Question 1a unseen**"
      ]
    },
    {
      "cell_type": "code",
      "execution_count": null,
      "metadata": {
        "colab": {
          "base_uri": "https://localhost:8080/"
        },
        "collapsed": true,
        "id": "cpk8fizwpoWr",
        "outputId": "09131cce-1a4d-4f6b-c613-6bb8626169f8"
      },
      "outputs": [
        {
          "output_type": "stream",
          "name": "stdout",
          "text": [
            "R2 score:  1.0\n"
          ]
        }
      ],
      "source": [
        "# Load the unseen test set\n",
        "data = np.loadtxt('PADL-Q11-unseen.csv', delimiter=',', skiprows=1, usecols=range(0, 6))\n",
        "x = data[:, 0:5]\n",
        "y = data[:, 5]\n",
        "\n",
        "# Apply polinomial transformation to the data\n",
        "x_poly = poly.fit_transform(x)\n",
        "\n",
        "# Test the model on the unseen test set\n",
        "pred_y = poly_model.predict(x_poly)\n",
        "r2 = r2_score(y, pred_y)\n",
        "print(\"R2 score: \", r2)"
      ]
    },
    {
      "cell_type": "markdown",
      "metadata": {
        "id": "qwQly84UcpEI"
      },
      "source": [
        "**Question 1b**"
      ]
    },
    {
      "cell_type": "code",
      "execution_count": null,
      "metadata": {
        "colab": {
          "base_uri": "https://localhost:8080/"
        },
        "id": "1j-GtOCxdSJi",
        "outputId": "eab13abe-7570-4be3-c25e-38281ec43152"
      },
      "outputs": [
        {
          "output_type": "stream",
          "name": "stdout",
          "text": [
            "Vanilla model R2:  1.0\n",
            "Vanilla model Coefficients:  [0.060061 3.053668 1.006432 0.070835]\n",
            "\n",
            "Regularised model R2:  0.934535051713459\n",
            "Regularised model Coefficients:  [0.059384 1.490664 0.946846 0.      ]\n",
            "\n",
            "Acceptable - within 10% tolerance.\n"
          ]
        }
      ],
      "source": [
        "from sklearn.linear_model import LinearRegression\n",
        "from sklearn import linear_model\n",
        "np.set_printoptions(suppress=True, precision=6) # Remove scientifc notation e from printed coefficiant values\n",
        "\n",
        "# Load the seen dataset and split into x and y\n",
        "data = np.loadtxt('PADL-Q12-train.csv', delimiter=',', skiprows=1, usecols=range(0, 5))\n",
        "x = data[:, 0:4]\n",
        "y = data[:, 4]\n",
        "\n",
        "# Split the seen dataset into 80% train, 20% test\n",
        "train_x, test_x, train_y, test_y = train_test_split(x, y, test_size=0.2)\n",
        "\n",
        "\n",
        "# Create the model and train (Vanilla)\n",
        "vanilla = linear_model.LinearRegression()\n",
        "vanilla.fit(train_x, train_y)\n",
        "\n",
        "# Create the regularised model (Lasso) and train\n",
        "lasso = linear_model.Lasso(alpha=14)\n",
        "lasso.fit(train_x, train_y)\n",
        "\n",
        "\n",
        "# Test the performance of the vanilla model and print coefficiants\n",
        "vanilla_y_hat = vanilla.predict(test_x)\n",
        "vanilla_r2 = r2_score(test_y, vanilla_y_hat)\n",
        "print('Vanilla model R2: ',r2)\n",
        "print(\"Vanilla model Coefficients: \",vanilla.coef_)\n",
        "print()\n",
        "\n",
        "\n",
        "# Test the performance of the regularised model and print coefficiants\n",
        "lasso_y_hat = lasso.predict(test_x)\n",
        "lasso_r2 = r2_score(test_y, lasso_y_hat)\n",
        "print('Regularised model R2: ',lasso_r2)\n",
        "print(\"Regularised model Coefficients: \",lasso.coef_)\n",
        "print()\n",
        "\n",
        "# Check if regularised model is still within the 10% R2 performance threshold of the vanilla model\n",
        "if(lasso_r2 >= 0.9*vanilla_r2):\n",
        "    print(\"Acceptable - within 10% tolerance.\")\n",
        "else:\n",
        "    print(\"Not acceptable\")\n"
      ]
    },
    {
      "cell_type": "markdown",
      "metadata": {
        "id": "kUEhXkNc7TF7"
      },
      "source": [
        "**Question 1b unseen**"
      ]
    },
    {
      "cell_type": "code",
      "execution_count": null,
      "metadata": {
        "colab": {
          "base_uri": "https://localhost:8080/"
        },
        "collapsed": true,
        "id": "3EOWzOCV7YuB",
        "outputId": "7a82f68c-1153-4142-e925-c58526276ed4"
      },
      "outputs": [
        {
          "output_type": "stream",
          "name": "stdout",
          "text": [
            "Vanilla model R2:  0.9599070574592169\n",
            "Vanilla model Coefficients:  [0.060061 3.053668 1.006432 0.070835]\n",
            "\n",
            "Regularised model R2:  0.9254713212919085\n",
            "Regularised model Coefficients:  [0.059384 1.490664 0.946846 0.      ]\n",
            "\n"
          ]
        }
      ],
      "source": [
        "# Load and split the unseen test set\n",
        "data = np.loadtxt('PADL-Q12-unseen.csv', delimiter=',', skiprows=1, usecols=range(0, 5))\n",
        "x = data[:, 0:4]\n",
        "y = data[:, 4]\n",
        "\n",
        "# Test the performance of the Vanilla model and print coefficiants on the unseen test set\n",
        "vanilla_y_hat = vanilla.predict(x)\n",
        "r2 = r2_score(y, vanilla_y_hat)\n",
        "print('Vanilla model R2: ',r2)\n",
        "print(\"Vanilla model Coefficients: \", vanilla.coef_)\n",
        "print()\n",
        "\n",
        "# Test the performance of the Regularised model and print coefficiants on the unseen test set\n",
        "lasso_y_hat = lasso.predict(x)\n",
        "r2 = r2_score(y, lasso_y_hat)\n",
        "print('Regularised model R2: ',r2)\n",
        "print(\"Regularised model Coefficients: \",(lasso.coef_))\n",
        "print()\n"
      ]
    },
    {
      "cell_type": "markdown",
      "metadata": {
        "id": "FDwO5R7HEACD"
      },
      "source": [
        "**Question 1c**"
      ]
    },
    {
      "cell_type": "code",
      "execution_count": null,
      "metadata": {
        "colab": {
          "base_uri": "https://localhost:8080/"
        },
        "id": "ed62d2fYEC7P",
        "outputId": "9b112a31-3c8e-4f72-8e58-bcc5c3c7ffcd"
      },
      "outputs": [
        {
          "output_type": "stream",
          "name": "stdout",
          "text": [
            "Vanilla Coefficient of determination: 0.9619873781136123\n",
            "Preprocessed R2: 0.962039731082215\n",
            "improvement in performance with preprocessing by: 5.235296860262029e-05\n"
          ]
        }
      ],
      "source": [
        "import numpy as np\n",
        "from sklearn import linear_model\n",
        "from sklearn.metrics import mean_squared_error, r2_score\n",
        "from sklearn.model_selection import train_test_split\n",
        "from sklearn.ensemble import IsolationForest\n",
        "from sklearn.preprocessing import StandardScaler\n",
        "# Import the Dataset and split into inputs and label\n",
        "data = np.loadtxt('PADL-Q13-train.csv', delimiter=',', skiprows=1, usecols=range(0, 6))\n",
        "x = data[:, 0:5]\n",
        "y = data[:, 5]\n",
        "train_x, test_x, train_y, test_y = train_test_split(x, y, test_size=0.15, random_state=1)\n",
        "\n",
        "\n",
        "\n",
        "# Vanilla model without preprocessing\n",
        "vanilla = linear_model.LinearRegression()\n",
        "vanilla.fit(train_x, train_y)\n",
        "vanilla_y_hat = vanilla.predict(test_x)\n",
        "vanilla_r2 = r2_score(test_y, vanilla_y_hat)\n",
        "print('Vanilla Coefficient of determination:', vanilla_r2)\n",
        "\n",
        "\n",
        "\n",
        "# Vanilla model with preprocessing\n",
        "# 1) Minor Anomaly Removal\n",
        "iso = IsolationForest(contamination=0.011, random_state=1)\n",
        "inliers = iso.fit_predict(train_x) == 1\n",
        "train_x_clean = train_x[inliers]\n",
        "train_y_clean = train_y[inliers]\n",
        "# 2) Scaling\n",
        "scaler = StandardScaler()\n",
        "train_x_scaled = scaler.fit_transform(train_x_clean)\n",
        "test_x_scaled = scaler.transform(test_x)\n",
        "\n",
        "preprocessed_model = linear_model.LinearRegression()\n",
        "preprocessed_model.fit(train_x_scaled, train_y_clean)\n",
        "preprocessed_y_hat = preprocessed_model.predict(test_x_scaled)\n",
        "preprocessed_r2 = r2_score(test_y, preprocessed_y_hat)\n",
        "print('Preprocessed R2:', preprocessed_r2)\n",
        "\n",
        "\n",
        "if(preprocessed_r2 > vanilla_r2):\n",
        "  print(\"improvement in performance with preprocessing by:\", preprocessed_r2 - vanilla_r2)\n",
        "else:\n",
        "  print(\"No performance gains\")\n"
      ]
    },
    {
      "cell_type": "markdown",
      "metadata": {
        "id": "Vt9RZ9VwLqfY"
      },
      "source": [
        "**Question 1c unseen**"
      ]
    },
    {
      "cell_type": "code",
      "execution_count": null,
      "metadata": {
        "colab": {
          "base_uri": "https://localhost:8080/"
        },
        "collapsed": true,
        "id": "oYIlNV4aLpdC",
        "outputId": "27e26314-7750-452d-862c-f1d0b3b62a28"
      },
      "outputs": [
        {
          "output_type": "stream",
          "name": "stdout",
          "text": [
            "without preprocessing model r2: 0.9657482090704439\n",
            "With preprocessing model r2: 0.9657401304228902\n",
            "No performance gains\n"
          ]
        }
      ],
      "source": [
        "unseen_data = np.loadtxt('PADL-Q13-unseen.csv', delimiter=',', skiprows=1, usecols=range(0, 6))\n",
        "unseen_x = unseen_data[:, 0:5]\n",
        "unseen_y = unseen_data[:, 5]\n",
        "\n",
        "# Without Preprocessing\n",
        "unseen_y_hat = vanilla.predict(unseen_x)\n",
        "\n",
        "# With Preprocessing\n",
        "unseen_x_scaled = scaler.transform(unseen_x)\n",
        "unseen_preprocessed_y_hat = preprocessed_model.predict(unseen_x_scaled)\n",
        "\n",
        "# Evaluate models\n",
        "unseen_vanilla_r2 = r2_score(unseen_y, unseen_y_hat)\n",
        "unseen_preprocessed_r2 = r2_score(unseen_y, unseen_preprocessed_y_hat)\n",
        "print(\"without preprocessing model r2:\", unseen_vanilla_r2)\n",
        "print(\"With preprocessing model r2:\", unseen_preprocessed_r2)\n",
        "\n",
        "if(unseen_preprocessed_r2 > unseen_vanilla_r2):\n",
        "  print(\"improvement in performance with preprocessing by:\", unseen_preprocessed_r2 - unseen_vanilla_r2)\n",
        "else:\n",
        "  print(\"No performance gains\")"
      ]
    },
    {
      "cell_type": "markdown",
      "metadata": {
        "id": "AS5PaK6N2a4T"
      },
      "source": [
        "**Question 2a**"
      ]
    },
    {
      "cell_type": "code",
      "execution_count": null,
      "metadata": {
        "colab": {
          "base_uri": "https://localhost:8080/",
          "height": 521
        },
        "id": "rUkmKJJO2dla",
        "outputId": "bff31d68-b7b5-488f-ad6b-5ca16fd9d365"
      },
      "outputs": [
        {
          "output_type": "stream",
          "name": "stdout",
          "text": [
            "number of unique labels:  4\n"
          ]
        },
        {
          "output_type": "display_data",
          "data": {
            "text/plain": [
              "<Figure size 1200x500 with 0 Axes>"
            ]
          },
          "metadata": {}
        },
        {
          "output_type": "display_data",
          "data": {
            "text/plain": [
              "<Figure size 1200x500 with 2 Axes>"
            ],
            "image/png": "[encoded data removed]"
          },
          "metadata": {}
        }
      ],
      "source": [
        "import numpy as np\n",
        "from sklearn.cluster import KMeans\n",
        "from sklearn.decomposition import PCA\n",
        "import matplotlib.pyplot as plt\n",
        "from sklearn.preprocessing import StandardScaler\n",
        "\n",
        "# Get the dataset and split it into inputs variables x,y\n",
        "data = np.loadtxt('PADL-Q2.csv',delimiter=',',skiprows=1,usecols=range(0,6))\n",
        "x1 = data[:,0:5]\n",
        "y1 = data[:,5]\n",
        "\n",
        "# identify the number of unique labels\n",
        "labels = np.unique(y1)\n",
        "print(\"number of unique labels: \",len(labels))\n",
        "\n",
        "# Apply k-means clustering to the unprocessed dataset\n",
        "clustered_x1 = KMeans(n_clusters=len(labels), random_state=0, n_init='auto').fit_predict(x1)\n",
        "\n",
        "\n",
        "# Standardise the the dataset, then apply PCA\n",
        "scaler1 = StandardScaler()\n",
        "standardised_x1 = scaler1.fit_transform(x1)\n",
        "pca1 = PCA(n_components=2)\n",
        "pca_x1 = pca1.fit_transform(standardised_x1)\n",
        "evr_case_1 = pca1.explained_variance_ratio_\n",
        "# Manually Swap clusters 2 and 3 as they have been swapped – k-means assigns arbritary class names to clusters - in this\n",
        "# case its obvious that clusters 2 and 3 are the opposite way around compared to the orignal class labeled dataset, by visual inspection.\n",
        "clustered_x_swapped1 = clustered_x1.copy()\n",
        "clustered_x_swapped1[clustered_x1 == 2] = -1\n",
        "clustered_x_swapped1[clustered_x1 == 3] = 2\n",
        "clustered_x_swapped1[clustered_x_swapped1 == -1] = 3\n",
        "\n",
        "# Plot the orginal class labels and the predicted class labels\n",
        "plt.figure(figsize=(12, 5))\n",
        "fig, ax = plt.subplots(1, 2, figsize=(12, 5))\n",
        "\n",
        "# Plot the dataset with original class labels\n",
        "plt.subplot(1, 2, 1)\n",
        "plt.title('Dataset with original labels')\n",
        "cmap = plt.get_cmap(\"viridis\")\n",
        "colors = [cmap(i / (len(labels) - 1)) for i in range(len(labels))]\n",
        "for i, label in enumerate(labels):\n",
        "    plt.scatter(\n",
        "        pca_x1[y1 == label, 0], pca_x1[y1 == label, 1],\n",
        "        color=colors[i],\n",
        "        label=f'Class {int(label)}'\n",
        "    )\n",
        "plt.xlabel('PC1')\n",
        "plt.ylabel('PC2')\n",
        "plt.legend(title='True Labels')\n",
        "\n",
        "# Plot the data with the predicted labels from k-means clustering\n",
        "plt.subplot(1, 2, 2)\n",
        "plt.title('Dataset with k-means clustered labels')\n",
        "for i, cluster in enumerate(labels):\n",
        "    plt.scatter(\n",
        "        pca_x1[clustered_x_swapped1 == cluster, 0],\n",
        "        pca_x1[clustered_x_swapped1 == cluster, 1],\n",
        "        color=colors[i],\n",
        "        label=f'Cluster {int(cluster)}'\n",
        "    )\n",
        "\n",
        "plt.xlabel('PC1')\n",
        "plt.ylabel('PC2')\n",
        "plt.legend(title='k-means Labels')\n",
        "plt.show()"
      ]
    },
    {
      "cell_type": "markdown",
      "source": [
        " I Manually Swapped clusters 2 and 3 as they are the other way around – k-means assigns arbritary class names to clusters - in this case its obvious that clusters 2 and 3 are the opposite way around compared to the orignal class labeled dataset, by visual inspection."
      ],
      "metadata": {
        "id": "EU8a3gkoMKO2"
      }
    },
    {
      "cell_type": "markdown",
      "metadata": {
        "id": "EESAxP49-1Gj"
      },
      "source": [
        "**Question 2b**"
      ]
    },
    {
      "cell_type": "code",
      "execution_count": null,
      "metadata": {
        "colab": {
          "base_uri": "https://localhost:8080/",
          "height": 472
        },
        "id": "L-9DJkjb-6TX",
        "outputId": "423682fc-bbff-4f4d-8d46-1441bfcfde2f"
      },
      "outputs": [
        {
          "output_type": "display_data",
          "data": {
            "text/plain": [
              "<Figure size 640x480 with 1 Axes>"
            ],
            "image/png": "[encoded data removed]"
          },
          "metadata": {}
        }
      ],
      "source": [
        "# Apply k-means clustering to the PCA transformed data\n",
        "data = np.loadtxt('PADL-Q2.csv',delimiter=',',skiprows=1,usecols=range(0,6))\n",
        "x2 = data[:,0:5]\n",
        "y2 = data[:,5]\n",
        "\n",
        "scaler2 = StandardScaler()\n",
        "standardised_x2 = scaler2.fit_transform(x2)\n",
        "pca2 = PCA(n_components=2)\n",
        "pca_x2 = pca2.fit_transform(standardised_x2)\n",
        "\n",
        "pca_clustered_x2 = KMeans(n_clusters=4, random_state=0, n_init=\"auto\").fit_predict(pca_x2)\n",
        "evr_case_2 = pca2.explained_variance_ratio_\n",
        "\n",
        "# use the viridis colormap\n",
        "cmap = plt.get_cmap(\"viridis\")\n",
        "colors = [cmap(i / (4 - 1)) for i in range(4)]\n",
        "\n",
        "# make scatter plot\n",
        "for cluster in np.unique(pca_clustered_x2):\n",
        "    plt.scatter(\n",
        "        pca_x2[pca_clustered_x2 == cluster, 0],\n",
        "        pca_x2[pca_clustered_x2 == cluster, 1],\n",
        "        color=colors[cluster],\n",
        "        label=f\"Cluster {cluster}\",\n",
        "    )\n",
        "\n",
        "plt.legend(title=\"Clusters\", loc='best',bbox_to_anchor=(1.05, 1))\n",
        "plt.xlabel(\"PC1\")\n",
        "plt.ylabel(\"PC2\")\n",
        "plt.title(\"K-Means Clustering\")\n",
        "plt.show()"
      ]
    },
    {
      "cell_type": "markdown",
      "metadata": {
        "id": "h-2wC2rlDwas"
      },
      "source": [
        "**Question 2c**"
      ]
    },
    {
      "cell_type": "code",
      "execution_count": null,
      "metadata": {
        "colab": {
          "base_uri": "https://localhost:8080/"
        },
        "id": "sPWCkQdgs2I9",
        "outputId": "e6ff66c8-2662-4b34-f09e-e83b34a51a87"
      },
      "outputs": [
        {
          "output_type": "stream",
          "name": "stdout",
          "text": [
            "Correctly clustered for Case 1 (Clustering followed by PCA): 96.67%\n",
            "Correctly clustered for Case 2 (PCA then followed by clustering): 86.33%\n",
            "Relative loss in accuracy between case 1 and 2 is 10.3%, with percentage of variance in the data represented by PC1 and PC2 66.4%\n"
          ]
        }
      ],
      "source": [
        "# count how many labels are correct for clustering in question 2a and 2b\n",
        "correct_pca_first = 0\n",
        "correct_pca_after = 0\n",
        "\n",
        "for i in range(0,len(y2)):\n",
        "  if (pca_clustered_x2[i] == y2[i]):\n",
        "    correct_pca_first += 1\n",
        "\n",
        "for i in range(0,len(y1)):\n",
        "  if (clustered_x_swapped1[i] == y1[i]):\n",
        "    correct_pca_after += 1\n",
        "\n",
        "\n",
        "percentage_of_variance_by_PC1_PC2 = evr_case_1[0] + evr_case_1[1]\n",
        "# case 1 and 2 are the same therefore:\n",
        "percentage_of_variance_by_PC1_PC2 = round((evr_case_1[0] + evr_case_1[1]) * 100,1)\n",
        "\n",
        "\n",
        "accuracy_case_1 = correct_pca_after/300 * 100\n",
        "accuracy_case_2 = correct_pca_first/300 * 100\n",
        "print(f'Correctly clustered for Case 1 (Clustering followed by PCA): {round(accuracy_case_1,2)}%')\n",
        "print(f'Correctly clustered for Case 2 (PCA then followed by clustering): {round(accuracy_case_2,2)}%')\n",
        "print(f'Relative loss in accuracy between case 1 and 2 is {round(accuracy_case_1 - accuracy_case_2,1)}%, with percentage of variance in the data represented by PC1 and PC2 {percentage_of_variance_by_PC1_PC2}%')"
      ]
    },
    {
      "cell_type": "markdown",
      "metadata": {
        "id": "wLHt7rlhcanT"
      },
      "source": [
        "**Question 3a**"
      ]
    },
    {
      "cell_type": "code",
      "execution_count": null,
      "metadata": {
        "colab": {
          "base_uri": "https://localhost:8080/",
          "height": 984
        },
        "id": "WnGHOv33hxDO",
        "outputId": "770c77dd-f36f-46f9-f909-a1fada333239"
      },
      "outputs": [
        {
          "output_type": "stream",
          "name": "stdout",
          "text": [
            "Found existing installation: numpy 2.0.2\n",
            "Uninstalling numpy-2.0.2:\n",
            "  Successfully uninstalled numpy-2.0.2\n",
            "\u001b[33mWARNING: Skipping gensim as it is not installed.\u001b[0m\u001b[33m\n",
            "\u001b[0mCollecting numpy==1.24.0\n",
            "  Downloading numpy-1.24.0-cp311-cp311-manylinux_2_17_x86_64.manylinux2014_x86_64.whl.metadata (5.6 kB)\n",
            "Downloading numpy-1.24.0-cp311-cp311-manylinux_2_17_x86_64.manylinux2014_x86_64.whl (17.3 MB)\n",
            "\u001b[2K   \u001b[90m━━━━━━━━━━━━━━━━━━━━━━━━━━━━━━━━━━━━━━━━\u001b[0m \u001b[32m17.3/17.3 MB\u001b[0m \u001b[31m113.1 MB/s\u001b[0m eta \u001b[36m0:00:00\u001b[0m\n",
            "\u001b[?25hInstalling collected packages: numpy\n",
            "\u001b[31mERROR: pip's dependency resolver does not currently take into account all the packages that are installed. This behaviour is the source of the following dependency conflicts.\n",
            "tensorflow 2.18.0 requires numpy<2.1.0,>=1.26.0, but you have numpy 1.24.0 which is incompatible.\n",
            "albumentations 2.0.7 requires numpy>=1.24.4, but you have numpy 1.24.0 which is incompatible.\n",
            "imbalanced-learn 0.13.0 requires numpy<3,>=1.24.3, but you have numpy 1.24.0 which is incompatible.\n",
            "albucore 0.0.24 requires numpy>=1.24.4, but you have numpy 1.24.0 which is incompatible.\n",
            "treescope 0.1.9 requires numpy>=1.25.2, but you have numpy 1.24.0 which is incompatible.\n",
            "blosc2 3.3.3 requires numpy>=1.26, but you have numpy 1.24.0 which is incompatible.\n",
            "pymc 5.22.0 requires numpy>=1.25.0, but you have numpy 1.24.0 which is incompatible.\n",
            "thinc 8.3.6 requires numpy<3.0.0,>=2.0.0, but you have numpy 1.24.0 which is incompatible.\n",
            "seaborn 0.13.2 requires numpy!=1.24.0,>=1.20, but you have numpy 1.24.0 which is incompatible.\n",
            "jax 0.5.2 requires numpy>=1.25, but you have numpy 1.24.0 which is incompatible.\n",
            "jaxlib 0.5.1 requires numpy>=1.25, but you have numpy 1.24.0 which is incompatible.\n",
            "chex 0.1.89 requires numpy>=1.24.1, but you have numpy 1.24.0 which is incompatible.\u001b[0m\u001b[31m\n",
            "\u001b[0mSuccessfully installed numpy-1.24.0\n"
          ]
        },
        {
          "output_type": "display_data",
          "data": {
            "application/vnd.colab-display-data+json": {
              "pip_warning": {
                "packages": [
                  "numpy"
                ]
              },
              "id": "9f793170ff1d4ce9a731d736229c96f0"
            }
          },
          "metadata": {}
        },
        {
          "output_type": "stream",
          "name": "stdout",
          "text": [
            "Collecting gensim\n",
            "  Downloading gensim-4.3.3-cp311-cp311-manylinux_2_17_x86_64.manylinux2014_x86_64.whl.metadata (8.1 kB)\n",
            "Requirement already satisfied: numpy<2.0,>=1.18.5 in /usr/local/lib/python3.11/dist-packages (from gensim) (1.24.0)\n",
            "Collecting scipy<1.14.0,>=1.7.0 (from gensim)\n",
            "  Downloading scipy-1.13.1-cp311-cp311-manylinux_2_17_x86_64.manylinux2014_x86_64.whl.metadata (60 kB)\n",
            "\u001b[2K     \u001b[90m━━━━━━━━━━━━━━━━━━━━━━━━━━━━━━━━━━━━━━━━\u001b[0m \u001b[32m60.6/60.6 kB\u001b[0m \u001b[31m4.1 MB/s\u001b[0m eta \u001b[36m0:00:00\u001b[0m\n",
            "\u001b[?25hRequirement already satisfied: smart-open>=1.8.1 in /usr/local/lib/python3.11/dist-packages (from gensim) (7.1.0)\n",
            "Requirement already satisfied: wrapt in /usr/local/lib/python3.11/dist-packages (from smart-open>=1.8.1->gensim) (1.17.2)\n",
            "Downloading gensim-4.3.3-cp311-cp311-manylinux_2_17_x86_64.manylinux2014_x86_64.whl (26.7 MB)\n",
            "\u001b[2K   \u001b[90m━━━━━━━━━━━━━━━━━━━━━━━━━━━━━━━━━━━━━━━━\u001b[0m \u001b[32m26.7/26.7 MB\u001b[0m \u001b[31m23.0 MB/s\u001b[0m eta \u001b[36m0:00:00\u001b[0m\n",
            "\u001b[?25hDownloading scipy-1.13.1-cp311-cp311-manylinux_2_17_x86_64.manylinux2014_x86_64.whl (38.6 MB)\n",
            "\u001b[2K   \u001b[90m━━━━━━━━━━━━━━━━━━━━━━━━━━━━━━━━━━━━━━━━\u001b[0m \u001b[32m38.6/38.6 MB\u001b[0m \u001b[31m13.7 MB/s\u001b[0m eta \u001b[36m0:00:00\u001b[0m\n",
            "\u001b[?25hInstalling collected packages: scipy, gensim\n",
            "  Attempting uninstall: scipy\n",
            "    Found existing installation: scipy 1.15.3\n",
            "    Uninstalling scipy-1.15.3:\n",
            "      Successfully uninstalled scipy-1.15.3\n",
            "\u001b[31mERROR: pip's dependency resolver does not currently take into account all the packages that are installed. This behaviour is the source of the following dependency conflicts.\n",
            "tsfresh 0.21.0 requires scipy>=1.14.0; python_version >= \"3.10\", but you have scipy 1.13.1 which is incompatible.\n",
            "albumentations 2.0.7 requires numpy>=1.24.4, but you have numpy 1.24.0 which is incompatible.\n",
            "imbalanced-learn 0.13.0 requires numpy<3,>=1.24.3, but you have numpy 1.24.0 which is incompatible.\n",
            "pymc 5.22.0 requires numpy>=1.25.0, but you have numpy 1.24.0 which is incompatible.\n",
            "jax 0.5.2 requires numpy>=1.25, but you have numpy 1.24.0 which is incompatible.\n",
            "jaxlib 0.5.1 requires numpy>=1.25, but you have numpy 1.24.0 which is incompatible.\n",
            "chex 0.1.89 requires numpy>=1.24.1, but you have numpy 1.24.0 which is incompatible.\u001b[0m\u001b[31m\n",
            "\u001b[0mSuccessfully installed gensim-4.3.3 scipy-1.13.1\n"
          ]
        }
      ],
      "source": [
        "!pip uninstall -y numpy gensim\n",
        "!pip install numpy==1.24.0\n",
        "!pip install gensim\n"
      ]
    },
    {
      "cell_type": "code",
      "execution_count": null,
      "metadata": {
        "id": "dBMqtabyiFFt"
      },
      "outputs": [],
      "source": [
        "from gensim.models import Word2Vec"
      ]
    },
    {
      "cell_type": "code",
      "execution_count": null,
      "metadata": {
        "colab": {
          "base_uri": "https://localhost:8080/"
        },
        "id": "p6r8CMNYceMq",
        "outputId": "211876ea-e42b-4136-99f6-621e5479b036"
      },
      "outputs": [
        {
          "output_type": "stream",
          "name": "stdout",
          "text": [
            "Cosine similarities between node '5' and nodes '21' to '30':\n",
            "Similarity(5, 21) = 0.0995\n",
            "Similarity(5, 22) = 0.1347\n",
            "Similarity(5, 23) = 0.2833\n",
            "Similarity(5, 24) = 0.2462\n",
            "Similarity(5, 25) = 0.1307\n",
            "Similarity(5, 26) = 0.1700\n",
            "Similarity(5, 27) = 0.2052\n",
            "Similarity(5, 28) = 0.2163\n",
            "Similarity(5, 29) = 0.1028\n",
            "Similarity(5, 30) = 0.1661\n"
          ]
        }
      ],
      "source": [
        "from gensim.models import Word2Vec\n",
        "\n",
        "# Load the data\n",
        "with open('PADL-Q3.txt', 'r') as file:\n",
        "    walks = [line.strip().split() for line in file if line.strip()]\n",
        "\n",
        "# train a Word2Vec model\n",
        "model = Word2Vec(\n",
        "    sentences=walks,\n",
        "    vector_size=100,\n",
        "    window=6,\n",
        "    min_count=1,\n",
        "    sg=1,\n",
        "    workers=4,\n",
        "    epochs=16,\n",
        ")\n",
        "\n",
        "# compute and print similarities\n",
        "print(\"Cosine similarities between node '5' and nodes '21' to '30':\")\n",
        "for i in range(21, 31):\n",
        "    node = str(i)\n",
        "    if node in model.wv and '5' in model.wv:\n",
        "        similarity = model.wv.similarity('5', node)\n",
        "        print(f\"Similarity(5, {node}) = {similarity:.4f}\")\n",
        "    else:\n",
        "        print(f\"Node {node} or node 5 not in vocabulary.\")"
      ]
    },
    {
      "cell_type": "markdown",
      "metadata": {
        "id": "8c9K16otzDGx"
      },
      "source": [
        "**Question 3b**"
      ]
    },
    {
      "cell_type": "code",
      "execution_count": null,
      "metadata": {
        "id": "jjOju-m2zFl1"
      },
      "outputs": [],
      "source": [
        "nodes = model.wv.index_to_key\n",
        "\n",
        "output_lines = []\n",
        "\n",
        "for node in nodes:\n",
        "    similar_nodes = model.wv.most_similar(node, topn=len(nodes)-1)\n",
        "    ordered_node_ids = [sim[0] for sim in similar_nodes]\n",
        "    output_lines.append(\" \".join(ordered_node_ids))\n",
        "\n",
        "with open(\"PADL-Q3-result.txt\", \"w\") as f:\n",
        "    for line in output_lines:\n",
        "        f.write(line + \"\\n\")\n",
        "\n",
        "# saved to local session storage"
      ]
    },
    {
      "cell_type": "markdown",
      "metadata": {
        "id": "a_8TFroNQWFx"
      },
      "source": [
        "**Question 4a**"
      ]
    },
    {
      "cell_type": "markdown",
      "metadata": {
        "id": "mnrhMYL6RMCn"
      },
      "source": [
        "1. The architecture has 5 input nodes and 1 output node, making use of all available input features and outputting a single prediction value as a real number – predicted waist size.\n",
        "\n",
        "2. The architecture makes use of 4 hidden layers with 16,32,32,16 nodes respectivley - suitably large enough to allow for the modelling of complex relationships without overfitting by using too large of a network.\n",
        "\n",
        "3. ReLU is used after each layer to introduce non-linearity allowing for the modelling of more complex relationships in the data.\n",
        "\n",
        "4. Adam optimiser with weight decay and a StepLR scheduler improves convergence and generalisation.\n",
        "\n",
        "5. L1 loss is used over L2 as it better suited to the testing metric MAE, and is suitable for regression tasks like this one.\n",
        "\n",
        "6. Residual network was not chosen as it offered no benefit, recurrent network was not suitable as the data is not sequential, therefore a 'vanilla' MLP was chosen."
      ]
    },
    {
      "cell_type": "markdown",
      "metadata": {
        "id": "30axMaMYRNRj"
      },
      "source": [
        "**Question 4b**"
      ]
    },
    {
      "cell_type": "code",
      "execution_count": null,
      "metadata": {
        "id": "8OZQn4rOQZ-_"
      },
      "outputs": [],
      "source": [
        "import numpy as np\n",
        "import torch\n",
        "import torch.nn as nn\n",
        "from torch.utils.data import TensorDataset, DataLoader\n",
        "from sklearn.metrics import r2_score\n",
        "import matplotlib.pyplot as plt\n",
        "from torch.optim.lr_scheduler import StepLR\n",
        "from sklearn.preprocessing import StandardScaler\n",
        "from sklearn.model_selection import train_test_split\n",
        "from sklearn.metrics import mean_absolute_error\n",
        "import joblib"
      ]
    },
    {
      "cell_type": "code",
      "execution_count": null,
      "metadata": {
        "id": "TZwFApAUr4MR",
        "colab": {
          "base_uri": "https://localhost:8080/"
        },
        "outputId": "f5cb6b31-d450-4093-cd73-61814ed3726d"
      },
      "outputs": [
        {
          "output_type": "execute_result",
          "data": {
            "text/plain": [
              "['y_scaler_q4.pkl']"
            ]
          },
          "metadata": {},
          "execution_count": 2
        }
      ],
      "source": [
        "# Load the dataset and remove any rows with missing values\n",
        "data = np.genfromtxt('body_measurements.csv', delimiter=',', dtype=float, encoding=None, missing_values=\"\", filling_values=np.nan, skip_header=1)\n",
        "data = data[~np.any(np.isnan(data), axis=1)]\n",
        "\n",
        "# Split the data into inputs (X) and labels (Y)\n",
        "x = data[:, 0:5]\n",
        "y = data[:, 5]\n",
        "\n",
        "# Create the test, train sets\n",
        "x_train, x_test, y_train, y_test = train_test_split(x, y, test_size=0.2, random_state=1)\n",
        "\n",
        "# Scale the the data\n",
        "x_scaler_q4 = StandardScaler()\n",
        "x_train_s = x_scaler_q4.fit_transform(x_train)\n",
        "x_test_s = x_scaler_q4.transform(x_test)\n",
        "y_scaler_q4 = StandardScaler()\n",
        "y_train_s = y_scaler_q4.fit_transform(y_train.reshape(-1, 1))\n",
        "\n",
        "# Convert NumPy data to tensors\n",
        "x_train_s = torch.tensor(x_train_s, dtype=torch.float32)\n",
        "x_test_s = torch.tensor(x_test_s, dtype=torch.float32)\n",
        "y_train_s = torch.tensor(y_train_s, dtype=torch.float32)\n",
        "y_test = torch.tensor(y_test, dtype=torch.float32)\n",
        "\n",
        "\n",
        "# Create Dataloader for training\n",
        "train_dataset = TensorDataset(x_train_s, y_train_s)\n",
        "batch_size = 32\n",
        "train_loader = DataLoader(train_dataset, batch_size=batch_size, shuffle=True)\n",
        "\n",
        "# save the scalers for later use\n",
        "joblib.dump(x_scaler_q4, 'x_scaler_q4.pkl')\n",
        "joblib.dump(y_scaler_q4, 'y_scaler_q4.pkl')"
      ]
    },
    {
      "cell_type": "code",
      "execution_count": null,
      "metadata": {
        "id": "d9Fib4TYr6po"
      },
      "outputs": [],
      "source": [
        "class Model(nn.Module):\n",
        "  def __init__(self, hiddenSize, hiddenSize2, hiddenSize3, hiddenSize4):\n",
        "    super(Model, self).__init__()\n",
        "    self.linear1 = nn.Linear(5, hiddenSize)\n",
        "    self.linear2 = nn.Linear(hiddenSize, hiddenSize2)\n",
        "    self.linear3 = nn.Linear(hiddenSize2, hiddenSize3)\n",
        "    self.linear4 = nn.Linear(hiddenSize3, hiddenSize4)\n",
        "    self.linear5 = nn.Linear(hiddenSize4, 1)\n",
        "    self.relu = nn.ReLU()\n",
        "\n",
        "\n",
        "  def forward(self, x):\n",
        "    y = self.relu(self.linear1(x))\n",
        "    y = self.relu(self.linear2(y))\n",
        "    y = self.relu(self.linear3(y))\n",
        "    y = self.relu(self.linear4(y))\n",
        "    y = self.linear5(y)\n",
        "    return y\n",
        "\n",
        "model = Model(16, 32, 32, 16)"
      ]
    },
    {
      "cell_type": "code",
      "execution_count": null,
      "metadata": {
        "colab": {
          "base_uri": "https://localhost:8080/",
          "height": 1000
        },
        "id": "HkIZZnEhsBcO",
        "outputId": "05cc8899-d114-4a9f-a6d1-5d8c2a0b0d1b"
      },
      "outputs": [
        {
          "output_type": "stream",
          "name": "stdout",
          "text": [
            "Epoch 0, Avg Loss: 0.47846695482730867\n",
            "Epoch 20, Avg Loss: 0.28310553530852\n",
            "Epoch 40, Avg Loss: 0.27640393806828395\n",
            "Epoch 60, Avg Loss: 0.28201151920689477\n",
            "Epoch 80, Avg Loss: 0.273434508840243\n",
            "Epoch 100, Avg Loss: 0.2781751857863532\n",
            "Epoch 120, Avg Loss: 0.2734980924261941\n",
            "Epoch 140, Avg Loss: 0.2746619400050905\n",
            "Epoch 160, Avg Loss: 0.28364773127767773\n",
            "Epoch 180, Avg Loss: 0.27213038073645696\n",
            "Epoch 200, Avg Loss: 0.27232353389263153\n",
            "Epoch 220, Avg Loss: 0.2778263827164968\n",
            "Epoch 240, Avg Loss: 0.2724424100584454\n",
            "Epoch 260, Avg Loss: 0.2719998366302914\n",
            "Epoch 280, Avg Loss: 0.2741820130083296\n",
            "Epoch 300, Avg Loss: 0.2757128308216731\n",
            "Epoch 320, Avg Loss: 0.28101017740037704\n",
            "Epoch 340, Avg Loss: 0.27022690640555486\n",
            "Epoch 360, Avg Loss: 0.2776564968956841\n",
            "Epoch 380, Avg Loss: 0.27473483681678773\n",
            "Epoch 400, Avg Loss: 0.27074252797497644\n",
            "Epoch 420, Avg Loss: 0.2711248457431793\n",
            "Epoch 440, Avg Loss: 0.2689986185895072\n",
            "Epoch 460, Avg Loss: 0.27142141660054525\n",
            "Epoch 480, Avg Loss: 0.27028039826287165\n",
            "Epoch 500, Avg Loss: 0.26985520985391404\n",
            "Epoch 520, Avg Loss: 0.2752194841702779\n",
            "Epoch 540, Avg Loss: 0.26928749018245274\n",
            "Epoch 560, Avg Loss: 0.272298056880633\n",
            "Epoch 580, Avg Loss: 0.2711230950223075\n",
            "Epoch 600, Avg Loss: 0.2703387955824534\n",
            "Epoch 620, Avg Loss: 0.27345223658614687\n",
            "Epoch 640, Avg Loss: 0.2726933866739273\n",
            "Epoch 660, Avg Loss: 0.2737169563770294\n",
            "Epoch 680, Avg Loss: 0.2716510948207643\n"
          ]
        },
        {
          "output_type": "display_data",
          "data": {
            "text/plain": [
              "<Figure size 640x480 with 1 Axes>"
            ],
            "image/png": "[encoded data removed]"
          },
          "metadata": {}
        }
      ],
      "source": [
        "criterion = torch.nn.L1Loss()\n",
        "# Setup optimiser\n",
        "optim = torch.optim.Adam(model.parameters(), lr=0.007, weight_decay=0.01)\n",
        "scheduler = torch.optim.lr_scheduler.StepLR(optim, step_size=200, gamma=0.8)\n",
        "\n",
        "\n",
        "epochs = 700\n",
        "loss_values = []\n",
        "val_values = []\n",
        "# Train the model\n",
        "for epoch in range(epochs):\n",
        "  epoch_loss = 0  # Initialize epoch loss at the start of each epoch\n",
        "  for batch_x, batch_y in train_loader:\n",
        "    y_predict = model(batch_x)\n",
        "    loss = criterion(y_predict, batch_y)\n",
        "    optim.zero_grad()\n",
        "    loss.backward()\n",
        "    optim.step()\n",
        "    epoch_loss += loss.item()\n",
        "\n",
        "  # Calculate the average loss for the epoch\n",
        "  avg_loss = epoch_loss / len(train_loader)\n",
        "  loss_values.append(avg_loss)\n",
        "\n",
        "    # Print loss every 200 epochs\n",
        "  if epoch % 20 == 0:\n",
        "    print(f'Epoch {epoch}, Avg Loss: {avg_loss}')\n",
        "    scheduler.step()\n",
        "\n",
        "\n",
        "\n",
        "\n",
        "\n",
        "\n",
        "\n",
        "\n",
        "\n",
        "\n",
        "# Plotting the loss curve\n",
        "plt.plot(range(epochs), loss_values, label=\"Training Loss\", color='blue')\n",
        "\n",
        "# Add labels and title\n",
        "plt.xlabel('Epochs')\n",
        "plt.ylabel('Loss')\n",
        "plt.title('Training Loss Over Time')\n",
        "\n",
        "# Show the grid and the plot\n",
        "plt.grid(True)\n",
        "plt.legend()\n",
        "plt.show()"
      ]
    },
    {
      "cell_type": "code",
      "execution_count": null,
      "metadata": {
        "colab": {
          "base_uri": "https://localhost:8080/"
        },
        "id": "5FS6YgaxsDbA",
        "outputId": "c3888e82-0045-40b3-b309-aa3995ce5f0c"
      },
      "outputs": [
        {
          "output_type": "stream",
          "name": "stdout",
          "text": [
            "Train R2: 0.879 Train MAE: 33.2mm\n",
            "Test R2: 0.864 Test MAE: 33.8mm\n"
          ]
        }
      ],
      "source": [
        "# Evaluate the model\n",
        "with torch.no_grad():\n",
        "  y_pred_train_s = model(x_train_s)\n",
        "  y_pred_train = y_scaler_q4.inverse_transform(y_pred_train_s.numpy())\n",
        "  y_train = y_scaler_q4.inverse_transform(y_train_s.numpy())\n",
        "  r2_train = r2_score(y_train, y_pred_train)\n",
        "  mae_train = mean_absolute_error(y_train, y_pred_train)\n",
        "  print(f'Train R2: {r2_train:.3f} Train MAE: {mae_train:.1f}mm')\n",
        "\n",
        "  y_pred_test_s = model(x_test_s)\n",
        "  y_pred_test = y_scaler_q4.inverse_transform(y_pred_test_s.numpy())\n",
        "  r2_test = r2_score(y_test, y_pred_test)\n",
        "  mae_test = mean_absolute_error(y_test, y_pred_test)\n",
        "  print(f'Test R2: {r2_test:.3f} Test MAE: {mae_test:.1f}mm')"
      ]
    },
    {
      "cell_type": "code",
      "execution_count": null,
      "metadata": {
        "colab": {
          "base_uri": "https://localhost:8080/"
        },
        "id": "DiDeeuxNsGS7",
        "outputId": "94312d9c-ab75-4cb9-c60c-c9c4d62330ae"
      },
      "outputs": [
        {
          "output_type": "stream",
          "name": "stdout",
          "text": [
            "Mounted at /content/drive\n"
          ]
        }
      ],
      "source": [
        "from google.colab import drive\n",
        "drive.mount('/content/drive')\n",
        "torch.save(model.state_dict(), '/content/drive/My Drive/Colab Notebooks/PADL Notebooks/Coursework Submission/q4_weights.pkl')\n"
      ]
    },
    {
      "cell_type": "markdown",
      "metadata": {
        "id": "0ILAXG_8RpFO"
      },
      "source": [
        "**Question 5a**"
      ]
    },
    {
      "cell_type": "markdown",
      "source": [
        "1. The model is a CNN rather than a regular MLP, making it more suitable for image classification tasks like the one at hand.\n",
        "\n",
        "2. The input and output layers are appropriately sized: 1×160×160 for the greyscale input images, and 3 for the output classes, making it well-suited for this classification task.\n",
        "3. Image preprocessing transforms RGB images of size 3×256×256 to greyscale 1×160×160. This significantly reduces input layer size and the number of model weights, enabling a smaller model (<20MB) while still preserving enough detail for accurate classification.\n",
        "4. The four convolutional layers — each with convolution, batch normalization, ReLU, and max pooling — extract hierarchical features effectively, enabling strong spatial abstraction.\n",
        "5. MLP Head: A hidden layer of size 128 with ReLU (and Dropout of 0.5 to help prevent overfitting) offers a good trade-off between performance and parameter count, followed by a final linear layer that outputs class scores.\n",
        "6. Training Setup: The model was trained using Adam (the GOAT!) with a learning rate of 0.001 and CrossEntropyLoss for 20 epochs, leading to stable convergence and good performance.\n",
        "7. CrossEntropyLoss was chosen because it is appropriate for multi-class classification tasks like this one."
      ],
      "metadata": {
        "id": "tzpEYz_hrg9D"
      }
    },
    {
      "cell_type": "markdown",
      "metadata": {
        "id": "Z3rpmGtlR0SX"
      },
      "source": [
        "**Question 5b**"
      ]
    },
    {
      "cell_type": "code",
      "source": [
        "import os\n",
        "import shutil\n",
        "import pandas as pd\n",
        "from PIL import Image\n",
        "import torch\n",
        "import torch.nn as nn\n",
        "import torch.nn.functional as F\n",
        "from torch.utils.data import Dataset, DataLoader, random_split\n",
        "import torch.optim as optim\n",
        "import torchvision.transforms as transforms\n",
        "import numpy as np\n",
        "\n",
        "# Mount and copy from Google Drive to local Colab storage (if needed)\n",
        "from google.colab import drive\n",
        "drive.mount('/content/drive/')\n",
        "\n",
        "drive_dataset_path = '/content/drive/My Drive/Colab Notebooks/PADL Notebooks/Coursework Submission/garment_images'\n",
        "local_dataset_path = '/content/garment_images'\n",
        "\n",
        "if os.path.exists(local_dataset_path) == False:\n",
        "    shutil.copytree(drive_dataset_path, local_dataset_path)\n",
        "\n",
        "# Paths\n",
        "csv_file = os.path.join(local_dataset_path, 'train_labels.csv')\n",
        "root_dir = local_dataset_path\n",
        "\n",
        "print(str(csv_file))\n",
        "print(str(root_dir))\n",
        "\n",
        "# Dataset definition\n",
        "class GarmentDataset(Dataset):\n",
        "    def __init__(self, csv_file, root_dir, transform=None):\n",
        "        self.labels_df = pd.read_csv(csv_file)\n",
        "        self.root_dir = root_dir\n",
        "        self.transform = transform\n",
        "\n",
        "    def __len__(self):\n",
        "        return len(self.labels_df)\n",
        "\n",
        "    def __getitem__(self, idx):\n",
        "        img_name = self.labels_df.iloc[idx, 0]\n",
        "        label = int(self.labels_df.iloc[idx, 1])\n",
        "        img_path = os.path.join(self.root_dir, str(label), img_name)\n",
        "\n",
        "        image = Image.open(img_path).convert(\"RGB\")\n",
        "        if self.transform:\n",
        "            image = self.transform(image)\n",
        "\n",
        "        return image, label\n",
        "\n",
        "# Transforms\n",
        "transform = transforms.Compose([\n",
        "    transforms.Grayscale(num_output_channels=1),\n",
        "    transforms.Resize((160, 160)),\n",
        "    transforms.ToTensor(),\n",
        "])\n",
        "\n",
        "# Create dataset and split\n",
        "dataset = GarmentDataset(csv_file=csv_file, root_dir=root_dir, transform=transform)\n",
        "train_size = int(0.8 * len(dataset))\n",
        "test_size = len(dataset) - train_size\n",
        "\n",
        "torch.manual_seed(5)\n",
        "train_dataset, test_dataset = random_split(dataset, [train_size, test_size])\n",
        "\n",
        "train_loader = DataLoader(train_dataset, batch_size=32, shuffle=True, num_workers=2)\n",
        "test_loader = DataLoader(test_dataset, batch_size=32, shuffle=False, num_workers=2)"
      ],
      "metadata": {
        "colab": {
          "base_uri": "https://localhost:8080/"
        },
        "id": "CI_Du_A05U4T",
        "outputId": "eb0b1141-b361-405a-ec7b-9155998ab2c1"
      },
      "execution_count": null,
      "outputs": [
        {
          "output_type": "stream",
          "name": "stdout",
          "text": [
            "Drive already mounted at /content/drive/; to attempt to forcibly remount, call drive.mount(\"/content/drive/\", force_remount=True).\n",
            "/content/garment_images/train_labels.csv\n",
            "/content/garment_images\n"
          ]
        }
      ]
    },
    {
      "cell_type": "code",
      "source": [
        "class CNN(nn.Module):\n",
        "    def __init__(self):\n",
        "        super(CNN, self).__init__()\n",
        "\n",
        "        self.convolutions = nn.Sequential(\n",
        "            nn.Conv2d(1, 32, kernel_size=3, padding=1),\n",
        "            nn.BatchNorm2d(32),\n",
        "            nn.ReLU(),\n",
        "            nn.MaxPool2d(2),\n",
        "\n",
        "            nn.Conv2d(32, 64, kernel_size=3, padding=1),\n",
        "            nn.BatchNorm2d(64),\n",
        "            nn.ReLU(),\n",
        "            nn.MaxPool2d(2),\n",
        "\n",
        "            nn.Conv2d(64, 128, kernel_size=3, padding=1),\n",
        "            nn.BatchNorm2d(128),\n",
        "            nn.ReLU(),\n",
        "            nn.MaxPool2d(2),\n",
        "\n",
        "            nn.Conv2d(128, 256, kernel_size=3, padding=1),\n",
        "            nn.BatchNorm2d(256),\n",
        "            nn.ReLU(),\n",
        "            nn.MaxPool2d(2),\n",
        "        )\n",
        "\n",
        "        self.mlp = nn.Sequential(\n",
        "            nn.Flatten(),\n",
        "            nn.Linear(256 * 10 * 10, 128),\n",
        "            nn.ReLU(),\n",
        "            nn.Dropout(0.5),\n",
        "            nn.Linear(128, 3)\n",
        "        )\n",
        "\n",
        "    def forward(self, x):\n",
        "        x = self.convolutions(x)\n",
        "        x = self.mlp(x)\n",
        "        return x"
      ],
      "metadata": {
        "id": "kO1azlvH5dho"
      },
      "execution_count": null,
      "outputs": []
    },
    {
      "cell_type": "code",
      "source": [
        "# Prep for training\n",
        "device = torch.device(\"cuda\" if torch.cuda.is_available() else \"cpu\")\n",
        "model = CNN().to(device)\n",
        "loss_func = nn.CrossEntropyLoss()\n",
        "optimiser = optim.Adam(model.parameters(), lr=0.001)\n",
        "num_epochs = 20"
      ],
      "metadata": {
        "id": "k6ZS2P4J5f3p"
      },
      "execution_count": null,
      "outputs": []
    },
    {
      "cell_type": "code",
      "source": [
        "# training\n",
        "for epoch in range(num_epochs):\n",
        "    model.train()\n",
        "    running_loss = 0\n",
        "\n",
        "    for images, labels in train_loader:\n",
        "        images = images.to(device)\n",
        "        labels = labels.to(device)\n",
        "        outputs = model(images)\n",
        "        loss = loss_func(outputs, labels)\n",
        "        optimiser.zero_grad()\n",
        "        loss.backward()\n",
        "        optimiser.step()\n",
        "\n",
        "        running_loss += loss.item()\n",
        "\n",
        "    avg_loss = running_loss / len(train_loader)\n",
        "    print(f\"Epoch {epoch+1}, Loss: {avg_loss:.4f}\")\n"
      ],
      "metadata": {
        "colab": {
          "base_uri": "https://localhost:8080/"
        },
        "id": "eDHjly9O5htV",
        "outputId": "2a1431b6-6399-4e4a-aff3-8b3b2033f959"
      },
      "execution_count": null,
      "outputs": [
        {
          "output_type": "stream",
          "name": "stdout",
          "text": [
            "Epoch 1, Loss: 0.9712\n",
            "Epoch 2, Loss: 0.2068\n",
            "Epoch 3, Loss: 0.1807\n",
            "Epoch 4, Loss: 0.1702\n",
            "Epoch 5, Loss: 0.1502\n",
            "Epoch 6, Loss: 0.1437\n",
            "Epoch 7, Loss: 0.1345\n",
            "Epoch 8, Loss: 0.1103\n",
            "Epoch 9, Loss: 0.0948\n",
            "Epoch 10, Loss: 0.1321\n",
            "Epoch 11, Loss: 0.1012\n",
            "Epoch 12, Loss: 0.1168\n",
            "Epoch 13, Loss: 0.0983\n",
            "Epoch 14, Loss: 0.0837\n",
            "Epoch 15, Loss: 0.0788\n",
            "Epoch 16, Loss: 0.0683\n",
            "Epoch 17, Loss: 0.0536\n",
            "Epoch 18, Loss: 0.0837\n",
            "Epoch 19, Loss: 0.0629\n",
            "Epoch 20, Loss: 0.0503\n"
          ]
        }
      ]
    },
    {
      "cell_type": "code",
      "source": [
        "model.eval()\n",
        "correct = 0\n",
        "total = 0\n",
        "\n",
        "with torch.no_grad():\n",
        "    for images, labels in test_loader:\n",
        "        images = images.to(device)\n",
        "        labels = labels.to(device)\n",
        "\n",
        "        outputs = model(images)\n",
        "        probability_distrubution = F.softmax(outputs, dim=1)\n",
        "        predicted = torch.argmax(probability_distrubution, dim=1)\n",
        "\n",
        "        total += labels.size(0)\n",
        "        correct += (predicted == labels).sum().item()\n",
        "\n",
        "accuracy = 100 * (correct/total)\n",
        "print(f\"Test Accuracy: {accuracy:.2f}%\")\n",
        "\n"
      ],
      "metadata": {
        "colab": {
          "base_uri": "https://localhost:8080/"
        },
        "id": "ENSDMv5K5jyZ",
        "outputId": "d024463d-235f-47f6-fbe2-7314b8dde2ec"
      },
      "execution_count": null,
      "outputs": [
        {
          "output_type": "stream",
          "name": "stdout",
          "text": [
            "Test Accuracy: 95.25%\n"
          ]
        }
      ]
    },
    {
      "cell_type": "code",
      "execution_count": null,
      "metadata": {
        "id": "7S06CWIBRp_3"
      },
      "outputs": [],
      "source": [
        "torch.save(model.state_dict(), \"/content/drive/My Drive/Colab Notebooks/PADL Notebooks/Coursework Submission/q5_weights.pkl\")"
      ]
    },
    {
      "cell_type": "markdown",
      "metadata": {
        "id": "b1VsA8ylt0v-"
      },
      "source": [
        "**Question 6a**"
      ]
    },
    {
      "cell_type": "markdown",
      "metadata": {
        "id": "5iQZQ-g_R8bu"
      },
      "source": [
        "1. The architecture uses a convolutional encoder that progressively downsamples the input image and increases feature channels, effectively capturing hierarchical features.\n",
        "2. A fully connected layer compresses the extracted features into a 32-dimensional latent vector, complying with the task’s latent space requirement.\n",
        "3. The decoder mirrors the encoder using transposed convolutions to reconstruct the image back to its original 192×160 size. Images where used in their original sizes to negate any reduction in image quality while having model weights below the 20Mb requirement.\n",
        "4. ReLU activations promote non-linear learning, and the final Sigmoid ensures outputs are in the (0, 1) range suitable for grayscale images.\n",
        "\n",
        "5. No preprocessing for images was used as model weights were below requirement, therefore there was no need to try and reduce image input size in order to reduce model size."
      ]
    },
    {
      "cell_type": "code",
      "source": [],
      "metadata": {
        "id": "7RQSBgFVvQUN"
      },
      "execution_count": null,
      "outputs": []
    },
    {
      "cell_type": "markdown",
      "metadata": {
        "id": "e3-X31z_SChk"
      },
      "source": [
        "**Question 6b**"
      ]
    },
    {
      "cell_type": "code",
      "execution_count": null,
      "metadata": {
        "id": "Nh3_GfXDSGCj"
      },
      "outputs": [],
      "source": [
        "import os\n",
        "import torch\n",
        "import torch.nn as nn\n",
        "import torch.nn.functional as F\n",
        "from torch.utils.data import Dataset, DataLoader\n",
        "from torchvision import transforms\n",
        "from PIL import Image\n",
        "import matplotlib.pyplot as plt\n",
        "import torchvision\n",
        "import numpy as np\n",
        "from skimage.metrics import structural_similarity as ssim\n",
        "from torch.utils.data import random_split\n",
        "import shutil"
      ]
    },
    {
      "cell_type": "code",
      "source": [
        "# Import the dataset from goole drive to the local session storage\n",
        "from google.colab import drive\n",
        "drive.mount('/content/drive')\n",
        "\n",
        "drive_dataset_path = '/content/drive/My Drive/Colab Notebooks/PADL Notebooks/Coursework Submission/face_images'\n",
        "local_dataset_path = '/content/face_images'\n",
        "\n",
        "# copy if not already\n",
        "if os.path.exists(local_dataset_path) == False:\n",
        "    shutil.copytree(drive_dataset_path, local_dataset_path)\n",
        "\n",
        "root_dir = local_dataset_path"
      ],
      "metadata": {
        "colab": {
          "base_uri": "https://localhost:8080/"
        },
        "id": "QKlodx6Gh88U",
        "outputId": "fc04e58f-effb-4958-f0eb-dbfbe03c9d7a"
      },
      "execution_count": null,
      "outputs": [
        {
          "output_type": "stream",
          "name": "stdout",
          "text": [
            "Mounted at /content/drive\n"
          ]
        }
      ]
    },
    {
      "cell_type": "code",
      "source": [
        "# Define the faces dataset\n",
        "class FacesDataset(Dataset):\n",
        "    def __init__(self, root_dir, transform=None):\n",
        "        self.root_dir = root_dir\n",
        "        self.transform = transform\n",
        "        # creates a list of all file names\n",
        "        self.image_files = []\n",
        "        for file in os.listdir(root_dir):\n",
        "            # only add file if its a jpg or jpeg\n",
        "            if file.lower().endswith(\".jpg\") or file.lower().endswith(\".jpeg\"):\n",
        "                self.image_files.append(file)\n",
        "\n",
        "\n",
        "    def __len__(self):\n",
        "        return len(self.image_files)\n",
        "\n",
        "    def __getitem__(self, idx):\n",
        "        img_path = os.path.join(self.root_dir, self.image_files[idx])\n",
        "        image = Image.open(img_path).convert(\"L\")\n",
        "        if self.transform:\n",
        "            image = self.transform(image)\n",
        "        return image\n",
        "\n",
        "# Transform images to a vector\n",
        "transform = transforms.Compose([\n",
        "    transforms.ToTensor(),\n",
        "])\n",
        "\n",
        "\n",
        "\n",
        "#instantiate the faces dataset\n",
        "dataset = FacesDataset(root_dir, transform=transform)\n",
        "\n",
        "\n",
        "\n",
        "# calculate train and test set sizes\n",
        "dataset_size = len(dataset)\n",
        "train_size = int(0.8 * dataset_size)\n",
        "val_size = dataset_size - train_size\n",
        "\n",
        "# randomly split the dataset into train and validation split\n",
        "torch.manual_seed(3)\n",
        "train_dataset, val_dataset = random_split(dataset, [train_size, val_size])\n",
        "\n",
        "# create the dataloaders\n",
        "train_loader = DataLoader(train_dataset, batch_size=32, shuffle=True)\n",
        "val_loader = DataLoader(val_dataset, batch_size=32, shuffle=False)\n"
      ],
      "metadata": {
        "id": "fw-lpykpiKew"
      },
      "execution_count": null,
      "outputs": []
    },
    {
      "cell_type": "code",
      "source": [
        "class AutoEncoder(nn.Module):\n",
        "    def __init__(self, latent_dim=32):\n",
        "        super().__init__()\n",
        "\n",
        "        # Encoder\n",
        "        self.encoder = nn.Sequential(\n",
        "            nn.Conv2d(1, 32, 4, 2, 1),\n",
        "            nn.ReLU(),\n",
        "            nn.Conv2d(32, 64, 4, 2, 1),\n",
        "            nn.ReLU(),\n",
        "            nn.Conv2d(64, 128, 4, 2, 1),\n",
        "            nn.ReLU(),\n",
        "            nn.Conv2d(128, 256, 4, 2, 1),\n",
        "            nn.ReLU(),\n",
        "        )\n",
        "        self.flatten = nn.Flatten()\n",
        "        self.mlp_enc = nn.Linear(256 * 12 * 10, latent_dim)\n",
        "\n",
        "        # Decoder\n",
        "        self.mlp_dec = nn.Linear(latent_dim, 256 * 12 * 10)\n",
        "        self.decoder = nn.Sequential(\n",
        "            nn.Unflatten(1, (256, 12, 10)),\n",
        "            nn.ConvTranspose2d(256, 128, 4, 2, 1),\n",
        "            nn.ReLU(),\n",
        "            nn.ConvTranspose2d(128, 64, 4, 2, 1),\n",
        "            nn.ReLU(),\n",
        "            nn.ConvTranspose2d(64, 32, 4, 2, 1),\n",
        "            nn.ReLU(),\n",
        "            nn.ConvTranspose2d(32, 1, 4, 2, 1),\n",
        "            nn.Sigmoid()\n",
        "        )\n",
        "\n",
        "    def encode(self, x):\n",
        "        x = self.encoder(x)\n",
        "        x = self.flatten(x)\n",
        "        return self.mlp_enc(x)\n",
        "\n",
        "    def decode(self, z):\n",
        "        x = self.mlp_dec(z)\n",
        "        return self.decoder(x)\n",
        "\n",
        "    def forward(self, x):\n",
        "        return self.decode(self.encode(x))\n"
      ],
      "metadata": {
        "id": "B4G3Bt2CiUYl"
      },
      "execution_count": null,
      "outputs": []
    },
    {
      "cell_type": "code",
      "source": [
        "# Training prep\n",
        "device = torch.device(\"cuda\" if torch.cuda.is_available() else \"cpu\")\n",
        "print(device)\n",
        "model = AutoEncoder().to(device)\n",
        "optimiser = torch.optim.Adam(model.parameters(), lr=0.001)\n",
        "loss_func = nn.MSELoss()\n"
      ],
      "metadata": {
        "colab": {
          "base_uri": "https://localhost:8080/"
        },
        "id": "SrdQ6d8yiXly",
        "outputId": "14fdf9d9-056b-4677-d492-af5d099ee5e0"
      },
      "execution_count": null,
      "outputs": [
        {
          "output_type": "stream",
          "name": "stdout",
          "text": [
            "cuda\n"
          ]
        }
      ]
    },
    {
      "cell_type": "code",
      "source": [
        "train_losses = []\n",
        "val_losses = []\n",
        "\n",
        "for epoch in range(20):\n",
        "    model.train()\n",
        "    running_loss = 0\n",
        "\n",
        "    for batch in train_loader:\n",
        "        batch = batch.to(device)\n",
        "        optimiser.zero_grad()\n",
        "        recon = model(batch)\n",
        "        loss = loss_func(recon, batch)\n",
        "        loss.backward()\n",
        "        optimiser.step()\n",
        "        running_loss += loss.item()\n",
        "\n",
        "    epoch_train_loss = running_loss / len(train_loader)\n",
        "    train_losses.append(epoch_train_loss)\n",
        "    print(f\"Epoch {epoch+1}, Train Loss: {epoch_train_loss:.4f}\")\n",
        "\n",
        "\n",
        "    model.eval()\n",
        "    val_loss = 0\n",
        "\n",
        "    with torch.no_grad():\n",
        "        for batch in val_loader:\n",
        "            batch = batch.to(device)\n",
        "            reconstruction = model(batch)\n",
        "            val_loss += loss_func(reconstruction, batch).item()\n",
        "\n",
        "    mean_val_loss = val_loss / len(val_loader)\n",
        "\n",
        "    val_losses.append(mean_val_loss)\n",
        "\n",
        "    print(f\"Validation Loss: {mean_val_loss:.4f}\")"
      ],
      "metadata": {
        "colab": {
          "base_uri": "https://localhost:8080/"
        },
        "id": "0JY283BN09yQ",
        "outputId": "41114221-289b-43a2-b5fb-b414228891d1"
      },
      "execution_count": null,
      "outputs": [
        {
          "output_type": "stream",
          "name": "stdout",
          "text": [
            "Epoch 1, Train Loss: 0.0450\n",
            "Validation Loss: 0.0233\n",
            "Epoch 2, Train Loss: 0.0216\n",
            "Validation Loss: 0.0184\n",
            "Epoch 3, Train Loss: 0.0158\n",
            "Validation Loss: 0.0116\n",
            "Epoch 4, Train Loss: 0.0104\n",
            "Validation Loss: 0.0092\n",
            "Epoch 5, Train Loss: 0.0087\n",
            "Validation Loss: 0.0078\n",
            "Epoch 6, Train Loss: 0.0074\n",
            "Validation Loss: 0.0070\n",
            "Epoch 7, Train Loss: 0.0062\n",
            "Validation Loss: 0.0057\n",
            "Epoch 8, Train Loss: 0.0052\n",
            "Validation Loss: 0.0050\n",
            "Epoch 9, Train Loss: 0.0045\n",
            "Validation Loss: 0.0049\n",
            "Epoch 10, Train Loss: 0.0043\n",
            "Validation Loss: 0.0048\n",
            "Epoch 11, Train Loss: 0.0036\n",
            "Validation Loss: 0.0038\n",
            "Epoch 12, Train Loss: 0.0032\n",
            "Validation Loss: 0.0040\n",
            "Epoch 13, Train Loss: 0.0030\n",
            "Validation Loss: 0.0035\n",
            "Epoch 14, Train Loss: 0.0028\n",
            "Validation Loss: 0.0033\n",
            "Epoch 15, Train Loss: 0.0025\n",
            "Validation Loss: 0.0030\n",
            "Epoch 16, Train Loss: 0.0023\n",
            "Validation Loss: 0.0030\n",
            "Epoch 17, Train Loss: 0.0024\n",
            "Validation Loss: 0.0032\n",
            "Epoch 18, Train Loss: 0.0023\n",
            "Validation Loss: 0.0029\n",
            "Epoch 19, Train Loss: 0.0021\n",
            "Validation Loss: 0.0027\n",
            "Epoch 20, Train Loss: 0.0019\n",
            "Validation Loss: 0.0027\n"
          ]
        }
      ]
    },
    {
      "cell_type": "code",
      "source": [
        "plt.plot()\n",
        "plt.plot(train_losses, label=\"Train Loss\", color=\"red\")\n",
        "plt.plot(val_losses, label=\"Validation Loss\", color=\"green\")\n",
        "plt.title(\"Loss Curve during Training\")\n",
        "plt.xlabel(\"Epoch\")\n",
        "\n",
        "plt.ylabel(\"Loss\")\n",
        "plt.legend()"
      ],
      "metadata": {
        "colab": {
          "base_uri": "https://localhost:8080/",
          "height": 489
        },
        "id": "qszV9zvx2CBr",
        "outputId": "49af35de-e055-4578-d6bd-eb5d284507cd"
      },
      "execution_count": null,
      "outputs": [
        {
          "output_type": "execute_result",
          "data": {
            "text/plain": [
              "<matplotlib.legend.Legend at 0x7ff60e17a690>"
            ]
          },
          "metadata": {},
          "execution_count": 7
        },
        {
          "output_type": "display_data",
          "data": {
            "text/plain": [
              "<Figure size 640x480 with 1 Axes>"
            ],
            "image/png": "[encoded data removed]"
          },
          "metadata": {}
        }
      ]
    },
    {
      "cell_type": "markdown",
      "source": [
        "The training and validation losses steadily decrease and converge over time, which suggests that the learning rate is well-chosen. A higher learning rate might have caused instability or spiking in the loss curve, while a lower learning rate could have led to slow progress or early stagnation.\n",
        "\n",
        "Additionally, the fact that the validation loss closely follows the training loss, with only a small gap, indicates that the model is not overfitting and generalises well to unseen data. This suggests that no additional regularisation (e.g. dropout or weight decay) was necessary.\n",
        "\n",
        "Therefore, the current hyperparameter choices are appropriate for this task."
      ],
      "metadata": {
        "id": "Y9GofpYmTi60"
      }
    },
    {
      "cell_type": "markdown",
      "metadata": {
        "id": "2_u-KMycSGi2"
      },
      "source": [
        "**Question 6c**"
      ]
    },
    {
      "cell_type": "code",
      "execution_count": null,
      "metadata": {
        "id": "Vb5C5jIESJTJ",
        "colab": {
          "base_uri": "https://localhost:8080/"
        },
        "outputId": "1d865299-88ad-4467-c8f2-041a9a899422"
      },
      "outputs": [
        {
          "output_type": "stream",
          "name": "stdout",
          "text": [
            "Validation SSIM: 0.7615\n"
          ]
        }
      ],
      "source": [
        "# Evaluate the performance (SSIM) on the validation set after training is complete\n",
        "def compute_batch_ssim(originals, reconstructions):\n",
        "    ssim_scores = []\n",
        "    for i in range(originals.size(0)):\n",
        "        orig = originals[i].squeeze().cpu().numpy()\n",
        "        recon = reconstructions[i].squeeze().cpu().numpy()\n",
        "        score = ssim(orig, recon, data_range=1.0)\n",
        "        ssim_scores.append(score)\n",
        "    return np.mean(ssim_scores)\n",
        "\n",
        "model.eval()\n",
        "ssim_total = 0\n",
        "\n",
        "with torch.no_grad():\n",
        "    for batch in val_loader:\n",
        "        batch = batch.to(device)\n",
        "        reconstructed = model(batch)\n",
        "        ssim_total += compute_batch_ssim(batch, reconstructed)\n",
        "\n",
        "mean_ssim = ssim_total / len(val_loader)\n",
        "print(f\"Validation SSIM: {mean_ssim:.4f}\")"
      ]
    },
    {
      "cell_type": "code",
      "source": [
        "torch.save(model.state_dict(), \"/content/drive/My Drive/Colab Notebooks/PADL Notebooks/Coursework Submission/q6_weights.pkl\")"
      ],
      "metadata": {
        "id": "aDRqZqDv-DpY"
      },
      "execution_count": null,
      "outputs": []
    },
    {
      "cell_type": "code",
      "source": [],
      "metadata": {
        "id": "lfLQ8d-4SgIm"
      },
      "execution_count": null,
      "outputs": []
    }
  ],
  "metadata": {
    "accelerator": "GPU",
    "colab": {
      "gpuType": "T4",
      "provenance": []
    },
    "kernelspec": {
      "display_name": "Python 3",
      "name": "python3"
    },
    "language_info": {
      "name": "python"
    }
  },
  "nbformat": 4,
  "nbformat_minor": 0
}